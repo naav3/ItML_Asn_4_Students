{
 "cells": [
  {
   "cell_type": "code",
   "execution_count": 1,
   "metadata": {},
   "outputs": [
    {
     "name": "stderr",
     "output_type": "stream",
     "text": [
      "c:\\Users\\navne\\anaconda3\\lib\\site-packages\\numpy\\_distributor_init.py:30: UserWarning: loaded more than 1 DLL from .libs:\n",
      "c:\\Users\\navne\\anaconda3\\lib\\site-packages\\numpy\\.libs\\libopenblas.XWYDX2IKJW2NMTWSFYNGFUWKQU3LYTCZ.gfortran-win_amd64.dll\n",
      "c:\\Users\\navne\\anaconda3\\lib\\site-packages\\numpy\\.libs\\libopenblas64__v0.3.21-gcc_10_3_0.dll\n",
      "  warnings.warn(\"loaded more than 1 DLL from .libs:\"\n",
      "c:\\Users\\navne\\anaconda3\\lib\\site-packages\\scipy\\__init__.py:146: UserWarning: A NumPy version >=1.16.5 and <1.23.0 is required for this version of SciPy (detected version 1.24.2\n",
      "  warnings.warn(f\"A NumPy version >={np_minversion} and <{np_maxversion}\"\n"
     ]
    }
   ],
   "source": [
    "import numpy as np\n",
    "import pandas as pd\n",
    "import tensorflow as tf\n",
    "from geopy import distance\n",
    "import geopandas\n",
    "import seaborn as sns\n",
    "import matplotlib as mpl\n",
    "import matplotlib.pyplot as plt\n",
    "\n",
    "import keras \n",
    "from keras.models import Sequential\n",
    "from keras.layers import Dense, Dropout\n",
    "import tensorflow as tf\n",
    "from keras.utils import np_utils\n",
    "from sklearn.model_selection import train_test_split\n",
    "from sklearn.metrics import mean_absolute_error\n",
    "from sklearn.preprocessing import StandardScaler\n",
    "from keras import metrics"
   ]
  },
  {
   "cell_type": "code",
   "execution_count": 2,
   "metadata": {},
   "outputs": [
    {
     "name": "stdout",
     "output_type": "stream",
     "text": [
      "Requirement already satisfied: geopy in c:\\users\\navne\\anaconda3\\lib\\site-packages (2.3.0)\n",
      "Requirement already satisfied: geographiclib<3,>=1.52 in c:\\users\\navne\\anaconda3\\lib\\site-packages (from geopy) (2.0)\n"
     ]
    }
   ],
   "source": [
    "!pip install geopy"
   ]
  },
  {
   "cell_type": "code",
   "execution_count": 2,
   "metadata": {},
   "outputs": [],
   "source": [
    "# Helper to plot loss\n",
    "def plot_loss(history):\n",
    "  plt.plot(history.history['loss'], label='loss')\n",
    "  plt.plot(history.history['val_loss'], label='val_loss')\n",
    "  plt.legend()\n",
    "  plt.grid(True)"
   ]
  },
  {
   "cell_type": "markdown",
   "metadata": {},
   "source": [
    "# Assignment 4 - Simple Neural Networks\n",
    "\n",
    "For this assigment you'll do a realistic task - predicting fraud from transaction data. \n",
    "### Some Things to Note\n",
    "\n",
    "<ul>\n",
    "<li> The dataset is imbalanced. See: https://www.tensorflow.org/tutorials/structured_data/imbalanced_data for some ideas\n",
    "<li> The locations, time, dob all likely aren't super useful on their own, but can be made into something more useful without much code or trouble. Think about how it may be useful to represent them. The data doesn't have missing rows, so this is the main data prep portion. \n",
    "<li> With respect to the above, and the other data here, we have a lot of rows of data. That means that we can generally handle data that is reasonably wide...\n",
    "</ul>\n",
    "\n",
    "### Deliverables\n",
    "\n",
    "Your final goal is to produce a function that can be called to classify a transaction:\n",
    "<ul>\n",
    "<li> Please submit two .ipynb files - one where you did your work, and another that can use your model to make predictions. \n",
    "<li> In that prediction file, please ensure:\n",
    "    <ul>\n",
    "    <li> You have a function where I can load a file, and the end result is a classificaiton matrix of your prediction accuracy. \n",
    "    <li> You load a trained model. There's no training here. \n",
    "    <li> Any data prep stuff that is needed for your data should be built in here. I'm going to run a test file that is the exact same setup as the training data.\n",
    "    <li> I should be able to open the prediction file, load the test data, and click RUN ALL and things should work. \n",
    "    <li> In addition to that, please include a short (~1-2 paragraph) description of what you did. Include anything that was innovative/different as well as a note on:\n",
    "        <ul>\n",
    "        <li> Any imbalanced data steps. \n",
    "        <li> Treatment of the location and time variables. What did you do to them?\n",
    "        <li> Model structure (layers/size)\n",
    "        <li> Any optimization steps included - regularization, dropouts, feature selection, etc...\n",
    "        </ul>\n",
    "    </ul>\n",
    "</ul>\n",
    "\n",
    "### Grades\n",
    "\n",
    "The grade breakdown is as follows:\n",
    "\n",
    "<ul>\n",
    "<li> Code preduces predictions - 40\n",
    "<li> Accuracy - 30\n",
    "<li> Explaination - 20\n",
    "<li> Balance/variable transformations - 10\n",
    "</ul>\n",
    "\n"
   ]
  },
  {
   "cell_type": "code",
   "execution_count": 3,
   "metadata": {},
   "outputs": [
    {
     "data": {
      "text/html": [
       "<div>\n",
       "<style scoped>\n",
       "    .dataframe tbody tr th:only-of-type {\n",
       "        vertical-align: middle;\n",
       "    }\n",
       "\n",
       "    .dataframe tbody tr th {\n",
       "        vertical-align: top;\n",
       "    }\n",
       "\n",
       "    .dataframe thead th {\n",
       "        text-align: right;\n",
       "    }\n",
       "</style>\n",
       "<table border=\"1\" class=\"dataframe\">\n",
       "  <thead>\n",
       "    <tr style=\"text-align: right;\">\n",
       "      <th></th>\n",
       "      <th>trans_date_trans_time</th>\n",
       "      <th>cc_num</th>\n",
       "      <th>merchant</th>\n",
       "      <th>category</th>\n",
       "      <th>amt</th>\n",
       "      <th>first</th>\n",
       "      <th>last</th>\n",
       "      <th>gender</th>\n",
       "      <th>street</th>\n",
       "      <th>city</th>\n",
       "      <th>...</th>\n",
       "      <th>lat</th>\n",
       "      <th>long</th>\n",
       "      <th>city_pop</th>\n",
       "      <th>job</th>\n",
       "      <th>dob</th>\n",
       "      <th>trans_num</th>\n",
       "      <th>unix_time</th>\n",
       "      <th>merch_lat</th>\n",
       "      <th>merch_long</th>\n",
       "      <th>is_fraud</th>\n",
       "    </tr>\n",
       "  </thead>\n",
       "  <tbody>\n",
       "    <tr>\n",
       "      <th>0</th>\n",
       "      <td>2019-01-01 00:00:18</td>\n",
       "      <td>2703186189652095</td>\n",
       "      <td>fraud_Rippin, Kub and Mann</td>\n",
       "      <td>misc_net</td>\n",
       "      <td>4.97</td>\n",
       "      <td>Jennifer</td>\n",
       "      <td>Banks</td>\n",
       "      <td>F</td>\n",
       "      <td>561 Perry Cove</td>\n",
       "      <td>Moravian Falls</td>\n",
       "      <td>...</td>\n",
       "      <td>36.0788</td>\n",
       "      <td>-81.1781</td>\n",
       "      <td>3495</td>\n",
       "      <td>Psychologist, counselling</td>\n",
       "      <td>1988-03-09</td>\n",
       "      <td>0b242abb623afc578575680df30655b9</td>\n",
       "      <td>1325376018</td>\n",
       "      <td>36.011293</td>\n",
       "      <td>-82.048315</td>\n",
       "      <td>0</td>\n",
       "    </tr>\n",
       "    <tr>\n",
       "      <th>1</th>\n",
       "      <td>2019-01-01 00:00:44</td>\n",
       "      <td>630423337322</td>\n",
       "      <td>fraud_Heller, Gutmann and Zieme</td>\n",
       "      <td>grocery_pos</td>\n",
       "      <td>107.23</td>\n",
       "      <td>Stephanie</td>\n",
       "      <td>Gill</td>\n",
       "      <td>F</td>\n",
       "      <td>43039 Riley Greens Suite 393</td>\n",
       "      <td>Orient</td>\n",
       "      <td>...</td>\n",
       "      <td>48.8878</td>\n",
       "      <td>-118.2105</td>\n",
       "      <td>149</td>\n",
       "      <td>Special educational needs teacher</td>\n",
       "      <td>1978-06-21</td>\n",
       "      <td>1f76529f8574734946361c461b024d99</td>\n",
       "      <td>1325376044</td>\n",
       "      <td>49.159047</td>\n",
       "      <td>-118.186462</td>\n",
       "      <td>0</td>\n",
       "    </tr>\n",
       "    <tr>\n",
       "      <th>2</th>\n",
       "      <td>2019-01-01 00:00:51</td>\n",
       "      <td>38859492057661</td>\n",
       "      <td>fraud_Lind-Buckridge</td>\n",
       "      <td>entertainment</td>\n",
       "      <td>220.11</td>\n",
       "      <td>Edward</td>\n",
       "      <td>Sanchez</td>\n",
       "      <td>M</td>\n",
       "      <td>594 White Dale Suite 530</td>\n",
       "      <td>Malad City</td>\n",
       "      <td>...</td>\n",
       "      <td>42.1808</td>\n",
       "      <td>-112.2620</td>\n",
       "      <td>4154</td>\n",
       "      <td>Nature conservation officer</td>\n",
       "      <td>1962-01-19</td>\n",
       "      <td>a1a22d70485983eac12b5b88dad1cf95</td>\n",
       "      <td>1325376051</td>\n",
       "      <td>43.150704</td>\n",
       "      <td>-112.154481</td>\n",
       "      <td>0</td>\n",
       "    </tr>\n",
       "    <tr>\n",
       "      <th>3</th>\n",
       "      <td>2019-01-01 00:01:16</td>\n",
       "      <td>3534093764340240</td>\n",
       "      <td>fraud_Kutch, Hermiston and Farrell</td>\n",
       "      <td>gas_transport</td>\n",
       "      <td>45.00</td>\n",
       "      <td>Jeremy</td>\n",
       "      <td>White</td>\n",
       "      <td>M</td>\n",
       "      <td>9443 Cynthia Court Apt. 038</td>\n",
       "      <td>Boulder</td>\n",
       "      <td>...</td>\n",
       "      <td>46.2306</td>\n",
       "      <td>-112.1138</td>\n",
       "      <td>1939</td>\n",
       "      <td>Patent attorney</td>\n",
       "      <td>1967-01-12</td>\n",
       "      <td>6b849c168bdad6f867558c3793159a81</td>\n",
       "      <td>1325376076</td>\n",
       "      <td>47.034331</td>\n",
       "      <td>-112.561071</td>\n",
       "      <td>0</td>\n",
       "    </tr>\n",
       "    <tr>\n",
       "      <th>4</th>\n",
       "      <td>2019-01-01 00:03:06</td>\n",
       "      <td>375534208663984</td>\n",
       "      <td>fraud_Keeling-Crist</td>\n",
       "      <td>misc_pos</td>\n",
       "      <td>41.96</td>\n",
       "      <td>Tyler</td>\n",
       "      <td>Garcia</td>\n",
       "      <td>M</td>\n",
       "      <td>408 Bradley Rest</td>\n",
       "      <td>Doe Hill</td>\n",
       "      <td>...</td>\n",
       "      <td>38.4207</td>\n",
       "      <td>-79.4629</td>\n",
       "      <td>99</td>\n",
       "      <td>Dance movement psychotherapist</td>\n",
       "      <td>1986-03-28</td>\n",
       "      <td>a41d7549acf90789359a9aa5346dcb46</td>\n",
       "      <td>1325376186</td>\n",
       "      <td>38.674999</td>\n",
       "      <td>-78.632459</td>\n",
       "      <td>0</td>\n",
       "    </tr>\n",
       "  </tbody>\n",
       "</table>\n",
       "<p>5 rows × 22 columns</p>\n",
       "</div>"
      ],
      "text/plain": [
       "  trans_date_trans_time            cc_num                            merchant  \\\n",
       "0   2019-01-01 00:00:18  2703186189652095          fraud_Rippin, Kub and Mann   \n",
       "1   2019-01-01 00:00:44      630423337322     fraud_Heller, Gutmann and Zieme   \n",
       "2   2019-01-01 00:00:51    38859492057661                fraud_Lind-Buckridge   \n",
       "3   2019-01-01 00:01:16  3534093764340240  fraud_Kutch, Hermiston and Farrell   \n",
       "4   2019-01-01 00:03:06   375534208663984                 fraud_Keeling-Crist   \n",
       "\n",
       "        category     amt      first     last gender  \\\n",
       "0       misc_net    4.97   Jennifer    Banks      F   \n",
       "1    grocery_pos  107.23  Stephanie     Gill      F   \n",
       "2  entertainment  220.11     Edward  Sanchez      M   \n",
       "3  gas_transport   45.00     Jeremy    White      M   \n",
       "4       misc_pos   41.96      Tyler   Garcia      M   \n",
       "\n",
       "                         street            city  ...      lat      long  \\\n",
       "0                561 Perry Cove  Moravian Falls  ...  36.0788  -81.1781   \n",
       "1  43039 Riley Greens Suite 393          Orient  ...  48.8878 -118.2105   \n",
       "2      594 White Dale Suite 530      Malad City  ...  42.1808 -112.2620   \n",
       "3   9443 Cynthia Court Apt. 038         Boulder  ...  46.2306 -112.1138   \n",
       "4              408 Bradley Rest        Doe Hill  ...  38.4207  -79.4629   \n",
       "\n",
       "   city_pop                                job         dob  \\\n",
       "0      3495          Psychologist, counselling  1988-03-09   \n",
       "1       149  Special educational needs teacher  1978-06-21   \n",
       "2      4154        Nature conservation officer  1962-01-19   \n",
       "3      1939                    Patent attorney  1967-01-12   \n",
       "4        99     Dance movement psychotherapist  1986-03-28   \n",
       "\n",
       "                          trans_num   unix_time  merch_lat  merch_long  \\\n",
       "0  0b242abb623afc578575680df30655b9  1325376018  36.011293  -82.048315   \n",
       "1  1f76529f8574734946361c461b024d99  1325376044  49.159047 -118.186462   \n",
       "2  a1a22d70485983eac12b5b88dad1cf95  1325376051  43.150704 -112.154481   \n",
       "3  6b849c168bdad6f867558c3793159a81  1325376076  47.034331 -112.561071   \n",
       "4  a41d7549acf90789359a9aa5346dcb46  1325376186  38.674999  -78.632459   \n",
       "\n",
       "   is_fraud  \n",
       "0         0  \n",
       "1         0  \n",
       "2         0  \n",
       "3         0  \n",
       "4         0  \n",
       "\n",
       "[5 rows x 22 columns]"
      ]
     },
     "execution_count": 3,
     "metadata": {},
     "output_type": "execute_result"
    }
   ],
   "source": [
    "# Load some data\n",
    "df = pd.read_csv(\"https://jrssbcrsefilesnait.blob.core.windows.net/3950data1/fraudTrain.csv.zip\")\n",
    "df.drop(columns={\"Unnamed: 0\"}, inplace=True)\n",
    "df.head()\n"
   ]
  },
  {
   "cell_type": "code",
   "execution_count": 5,
   "metadata": {},
   "outputs": [
    {
     "data": {
      "text/html": [
       "<div>\n",
       "<style scoped>\n",
       "    .dataframe tbody tr th:only-of-type {\n",
       "        vertical-align: middle;\n",
       "    }\n",
       "\n",
       "    .dataframe tbody tr th {\n",
       "        vertical-align: top;\n",
       "    }\n",
       "\n",
       "    .dataframe thead th {\n",
       "        text-align: right;\n",
       "    }\n",
       "</style>\n",
       "<table border=\"1\" class=\"dataframe\">\n",
       "  <thead>\n",
       "    <tr style=\"text-align: right;\">\n",
       "      <th></th>\n",
       "      <th>count</th>\n",
       "      <th>unique</th>\n",
       "      <th>top</th>\n",
       "      <th>freq</th>\n",
       "      <th>mean</th>\n",
       "      <th>std</th>\n",
       "      <th>min</th>\n",
       "      <th>25%</th>\n",
       "      <th>50%</th>\n",
       "      <th>75%</th>\n",
       "      <th>max</th>\n",
       "    </tr>\n",
       "  </thead>\n",
       "  <tbody>\n",
       "    <tr>\n",
       "      <th>trans_date_trans_time</th>\n",
       "      <td>1296675</td>\n",
       "      <td>1274791</td>\n",
       "      <td>2019-04-22 16:02:01</td>\n",
       "      <td>4</td>\n",
       "      <td>NaN</td>\n",
       "      <td>NaN</td>\n",
       "      <td>NaN</td>\n",
       "      <td>NaN</td>\n",
       "      <td>NaN</td>\n",
       "      <td>NaN</td>\n",
       "      <td>NaN</td>\n",
       "    </tr>\n",
       "    <tr>\n",
       "      <th>cc_num</th>\n",
       "      <td>1296675.0</td>\n",
       "      <td>NaN</td>\n",
       "      <td>NaN</td>\n",
       "      <td>NaN</td>\n",
       "      <td>417192042079641088.0</td>\n",
       "      <td>1308806447000789248.0</td>\n",
       "      <td>60416207185.0</td>\n",
       "      <td>180042946491150.0</td>\n",
       "      <td>3521417320836166.0</td>\n",
       "      <td>4642255475285942.0</td>\n",
       "      <td>4992346398065154048.0</td>\n",
       "    </tr>\n",
       "    <tr>\n",
       "      <th>merchant</th>\n",
       "      <td>1296675</td>\n",
       "      <td>693</td>\n",
       "      <td>fraud_Kilback LLC</td>\n",
       "      <td>4403</td>\n",
       "      <td>NaN</td>\n",
       "      <td>NaN</td>\n",
       "      <td>NaN</td>\n",
       "      <td>NaN</td>\n",
       "      <td>NaN</td>\n",
       "      <td>NaN</td>\n",
       "      <td>NaN</td>\n",
       "    </tr>\n",
       "    <tr>\n",
       "      <th>category</th>\n",
       "      <td>1296675</td>\n",
       "      <td>14</td>\n",
       "      <td>gas_transport</td>\n",
       "      <td>131659</td>\n",
       "      <td>NaN</td>\n",
       "      <td>NaN</td>\n",
       "      <td>NaN</td>\n",
       "      <td>NaN</td>\n",
       "      <td>NaN</td>\n",
       "      <td>NaN</td>\n",
       "      <td>NaN</td>\n",
       "    </tr>\n",
       "    <tr>\n",
       "      <th>amt</th>\n",
       "      <td>1296675.0</td>\n",
       "      <td>NaN</td>\n",
       "      <td>NaN</td>\n",
       "      <td>NaN</td>\n",
       "      <td>70.351035</td>\n",
       "      <td>160.316039</td>\n",
       "      <td>1.0</td>\n",
       "      <td>9.65</td>\n",
       "      <td>47.52</td>\n",
       "      <td>83.14</td>\n",
       "      <td>28948.9</td>\n",
       "    </tr>\n",
       "    <tr>\n",
       "      <th>first</th>\n",
       "      <td>1296675</td>\n",
       "      <td>352</td>\n",
       "      <td>Christopher</td>\n",
       "      <td>26669</td>\n",
       "      <td>NaN</td>\n",
       "      <td>NaN</td>\n",
       "      <td>NaN</td>\n",
       "      <td>NaN</td>\n",
       "      <td>NaN</td>\n",
       "      <td>NaN</td>\n",
       "      <td>NaN</td>\n",
       "    </tr>\n",
       "    <tr>\n",
       "      <th>last</th>\n",
       "      <td>1296675</td>\n",
       "      <td>481</td>\n",
       "      <td>Smith</td>\n",
       "      <td>28794</td>\n",
       "      <td>NaN</td>\n",
       "      <td>NaN</td>\n",
       "      <td>NaN</td>\n",
       "      <td>NaN</td>\n",
       "      <td>NaN</td>\n",
       "      <td>NaN</td>\n",
       "      <td>NaN</td>\n",
       "    </tr>\n",
       "    <tr>\n",
       "      <th>gender</th>\n",
       "      <td>1296675</td>\n",
       "      <td>2</td>\n",
       "      <td>F</td>\n",
       "      <td>709863</td>\n",
       "      <td>NaN</td>\n",
       "      <td>NaN</td>\n",
       "      <td>NaN</td>\n",
       "      <td>NaN</td>\n",
       "      <td>NaN</td>\n",
       "      <td>NaN</td>\n",
       "      <td>NaN</td>\n",
       "    </tr>\n",
       "    <tr>\n",
       "      <th>street</th>\n",
       "      <td>1296675</td>\n",
       "      <td>983</td>\n",
       "      <td>0069 Robin Brooks Apt. 695</td>\n",
       "      <td>3123</td>\n",
       "      <td>NaN</td>\n",
       "      <td>NaN</td>\n",
       "      <td>NaN</td>\n",
       "      <td>NaN</td>\n",
       "      <td>NaN</td>\n",
       "      <td>NaN</td>\n",
       "      <td>NaN</td>\n",
       "    </tr>\n",
       "    <tr>\n",
       "      <th>city</th>\n",
       "      <td>1296675</td>\n",
       "      <td>894</td>\n",
       "      <td>Birmingham</td>\n",
       "      <td>5617</td>\n",
       "      <td>NaN</td>\n",
       "      <td>NaN</td>\n",
       "      <td>NaN</td>\n",
       "      <td>NaN</td>\n",
       "      <td>NaN</td>\n",
       "      <td>NaN</td>\n",
       "      <td>NaN</td>\n",
       "    </tr>\n",
       "    <tr>\n",
       "      <th>state</th>\n",
       "      <td>1296675</td>\n",
       "      <td>51</td>\n",
       "      <td>TX</td>\n",
       "      <td>94876</td>\n",
       "      <td>NaN</td>\n",
       "      <td>NaN</td>\n",
       "      <td>NaN</td>\n",
       "      <td>NaN</td>\n",
       "      <td>NaN</td>\n",
       "      <td>NaN</td>\n",
       "      <td>NaN</td>\n",
       "    </tr>\n",
       "    <tr>\n",
       "      <th>zip</th>\n",
       "      <td>1296675.0</td>\n",
       "      <td>NaN</td>\n",
       "      <td>NaN</td>\n",
       "      <td>NaN</td>\n",
       "      <td>48800.671097</td>\n",
       "      <td>26893.222476</td>\n",
       "      <td>1257.0</td>\n",
       "      <td>26237.0</td>\n",
       "      <td>48174.0</td>\n",
       "      <td>72042.0</td>\n",
       "      <td>99783.0</td>\n",
       "    </tr>\n",
       "    <tr>\n",
       "      <th>lat</th>\n",
       "      <td>1296675.0</td>\n",
       "      <td>NaN</td>\n",
       "      <td>NaN</td>\n",
       "      <td>NaN</td>\n",
       "      <td>38.537622</td>\n",
       "      <td>5.075808</td>\n",
       "      <td>20.0271</td>\n",
       "      <td>34.6205</td>\n",
       "      <td>39.3543</td>\n",
       "      <td>41.9404</td>\n",
       "      <td>66.6933</td>\n",
       "    </tr>\n",
       "    <tr>\n",
       "      <th>long</th>\n",
       "      <td>1296675.0</td>\n",
       "      <td>NaN</td>\n",
       "      <td>NaN</td>\n",
       "      <td>NaN</td>\n",
       "      <td>-90.226335</td>\n",
       "      <td>13.759077</td>\n",
       "      <td>-165.6723</td>\n",
       "      <td>-96.798</td>\n",
       "      <td>-87.4769</td>\n",
       "      <td>-80.158</td>\n",
       "      <td>-67.9503</td>\n",
       "    </tr>\n",
       "    <tr>\n",
       "      <th>city_pop</th>\n",
       "      <td>1296675.0</td>\n",
       "      <td>NaN</td>\n",
       "      <td>NaN</td>\n",
       "      <td>NaN</td>\n",
       "      <td>88824.440563</td>\n",
       "      <td>301956.360689</td>\n",
       "      <td>23.0</td>\n",
       "      <td>743.0</td>\n",
       "      <td>2456.0</td>\n",
       "      <td>20328.0</td>\n",
       "      <td>2906700.0</td>\n",
       "    </tr>\n",
       "    <tr>\n",
       "      <th>job</th>\n",
       "      <td>1296675</td>\n",
       "      <td>494</td>\n",
       "      <td>Film/video editor</td>\n",
       "      <td>9779</td>\n",
       "      <td>NaN</td>\n",
       "      <td>NaN</td>\n",
       "      <td>NaN</td>\n",
       "      <td>NaN</td>\n",
       "      <td>NaN</td>\n",
       "      <td>NaN</td>\n",
       "      <td>NaN</td>\n",
       "    </tr>\n",
       "    <tr>\n",
       "      <th>dob</th>\n",
       "      <td>1296675</td>\n",
       "      <td>968</td>\n",
       "      <td>1977-03-23</td>\n",
       "      <td>5636</td>\n",
       "      <td>NaN</td>\n",
       "      <td>NaN</td>\n",
       "      <td>NaN</td>\n",
       "      <td>NaN</td>\n",
       "      <td>NaN</td>\n",
       "      <td>NaN</td>\n",
       "      <td>NaN</td>\n",
       "    </tr>\n",
       "    <tr>\n",
       "      <th>trans_num</th>\n",
       "      <td>1296675</td>\n",
       "      <td>1296675</td>\n",
       "      <td>0b242abb623afc578575680df30655b9</td>\n",
       "      <td>1</td>\n",
       "      <td>NaN</td>\n",
       "      <td>NaN</td>\n",
       "      <td>NaN</td>\n",
       "      <td>NaN</td>\n",
       "      <td>NaN</td>\n",
       "      <td>NaN</td>\n",
       "      <td>NaN</td>\n",
       "    </tr>\n",
       "    <tr>\n",
       "      <th>unix_time</th>\n",
       "      <td>1296675.0</td>\n",
       "      <td>NaN</td>\n",
       "      <td>NaN</td>\n",
       "      <td>NaN</td>\n",
       "      <td>1349243636.726123</td>\n",
       "      <td>12841278.42336</td>\n",
       "      <td>1325376018.0</td>\n",
       "      <td>1338750742.5</td>\n",
       "      <td>1349249747.0</td>\n",
       "      <td>1359385375.5</td>\n",
       "      <td>1371816817.0</td>\n",
       "    </tr>\n",
       "    <tr>\n",
       "      <th>merch_lat</th>\n",
       "      <td>1296675.0</td>\n",
       "      <td>NaN</td>\n",
       "      <td>NaN</td>\n",
       "      <td>NaN</td>\n",
       "      <td>38.537338</td>\n",
       "      <td>5.109788</td>\n",
       "      <td>19.027785</td>\n",
       "      <td>34.733572</td>\n",
       "      <td>39.36568</td>\n",
       "      <td>41.957164</td>\n",
       "      <td>67.510267</td>\n",
       "    </tr>\n",
       "    <tr>\n",
       "      <th>merch_long</th>\n",
       "      <td>1296675.0</td>\n",
       "      <td>NaN</td>\n",
       "      <td>NaN</td>\n",
       "      <td>NaN</td>\n",
       "      <td>-90.226465</td>\n",
       "      <td>13.771091</td>\n",
       "      <td>-166.671242</td>\n",
       "      <td>-96.897276</td>\n",
       "      <td>-87.438392</td>\n",
       "      <td>-80.236796</td>\n",
       "      <td>-66.950902</td>\n",
       "    </tr>\n",
       "    <tr>\n",
       "      <th>is_fraud</th>\n",
       "      <td>1296675.0</td>\n",
       "      <td>NaN</td>\n",
       "      <td>NaN</td>\n",
       "      <td>NaN</td>\n",
       "      <td>0.005789</td>\n",
       "      <td>0.075863</td>\n",
       "      <td>0.0</td>\n",
       "      <td>0.0</td>\n",
       "      <td>0.0</td>\n",
       "      <td>0.0</td>\n",
       "      <td>1.0</td>\n",
       "    </tr>\n",
       "  </tbody>\n",
       "</table>\n",
       "</div>"
      ],
      "text/plain": [
       "                           count   unique                               top  \\\n",
       "trans_date_trans_time    1296675  1274791               2019-04-22 16:02:01   \n",
       "cc_num                 1296675.0      NaN                               NaN   \n",
       "merchant                 1296675      693                 fraud_Kilback LLC   \n",
       "category                 1296675       14                     gas_transport   \n",
       "amt                    1296675.0      NaN                               NaN   \n",
       "first                    1296675      352                       Christopher   \n",
       "last                     1296675      481                             Smith   \n",
       "gender                   1296675        2                                 F   \n",
       "street                   1296675      983        0069 Robin Brooks Apt. 695   \n",
       "city                     1296675      894                        Birmingham   \n",
       "state                    1296675       51                                TX   \n",
       "zip                    1296675.0      NaN                               NaN   \n",
       "lat                    1296675.0      NaN                               NaN   \n",
       "long                   1296675.0      NaN                               NaN   \n",
       "city_pop               1296675.0      NaN                               NaN   \n",
       "job                      1296675      494                 Film/video editor   \n",
       "dob                      1296675      968                        1977-03-23   \n",
       "trans_num                1296675  1296675  0b242abb623afc578575680df30655b9   \n",
       "unix_time              1296675.0      NaN                               NaN   \n",
       "merch_lat              1296675.0      NaN                               NaN   \n",
       "merch_long             1296675.0      NaN                               NaN   \n",
       "is_fraud               1296675.0      NaN                               NaN   \n",
       "\n",
       "                         freq                  mean                    std  \\\n",
       "trans_date_trans_time       4                   NaN                    NaN   \n",
       "cc_num                    NaN  417192042079641088.0  1308806447000789248.0   \n",
       "merchant                 4403                   NaN                    NaN   \n",
       "category               131659                   NaN                    NaN   \n",
       "amt                       NaN             70.351035             160.316039   \n",
       "first                   26669                   NaN                    NaN   \n",
       "last                    28794                   NaN                    NaN   \n",
       "gender                 709863                   NaN                    NaN   \n",
       "street                   3123                   NaN                    NaN   \n",
       "city                     5617                   NaN                    NaN   \n",
       "state                   94876                   NaN                    NaN   \n",
       "zip                       NaN          48800.671097           26893.222476   \n",
       "lat                       NaN             38.537622               5.075808   \n",
       "long                      NaN            -90.226335              13.759077   \n",
       "city_pop                  NaN          88824.440563          301956.360689   \n",
       "job                      9779                   NaN                    NaN   \n",
       "dob                      5636                   NaN                    NaN   \n",
       "trans_num                   1                   NaN                    NaN   \n",
       "unix_time                 NaN     1349243636.726123         12841278.42336   \n",
       "merch_lat                 NaN             38.537338               5.109788   \n",
       "merch_long                NaN            -90.226465              13.771091   \n",
       "is_fraud                  NaN              0.005789               0.075863   \n",
       "\n",
       "                                 min                25%                 50%  \\\n",
       "trans_date_trans_time            NaN                NaN                 NaN   \n",
       "cc_num                 60416207185.0  180042946491150.0  3521417320836166.0   \n",
       "merchant                         NaN                NaN                 NaN   \n",
       "category                         NaN                NaN                 NaN   \n",
       "amt                              1.0               9.65               47.52   \n",
       "first                            NaN                NaN                 NaN   \n",
       "last                             NaN                NaN                 NaN   \n",
       "gender                           NaN                NaN                 NaN   \n",
       "street                           NaN                NaN                 NaN   \n",
       "city                             NaN                NaN                 NaN   \n",
       "state                            NaN                NaN                 NaN   \n",
       "zip                           1257.0            26237.0             48174.0   \n",
       "lat                          20.0271            34.6205             39.3543   \n",
       "long                       -165.6723            -96.798            -87.4769   \n",
       "city_pop                        23.0              743.0              2456.0   \n",
       "job                              NaN                NaN                 NaN   \n",
       "dob                              NaN                NaN                 NaN   \n",
       "trans_num                        NaN                NaN                 NaN   \n",
       "unix_time               1325376018.0       1338750742.5        1349249747.0   \n",
       "merch_lat                  19.027785          34.733572            39.36568   \n",
       "merch_long               -166.671242         -96.897276          -87.438392   \n",
       "is_fraud                         0.0                0.0                 0.0   \n",
       "\n",
       "                                      75%                    max  \n",
       "trans_date_trans_time                 NaN                    NaN  \n",
       "cc_num                 4642255475285942.0  4992346398065154048.0  \n",
       "merchant                              NaN                    NaN  \n",
       "category                              NaN                    NaN  \n",
       "amt                                 83.14                28948.9  \n",
       "first                                 NaN                    NaN  \n",
       "last                                  NaN                    NaN  \n",
       "gender                                NaN                    NaN  \n",
       "street                                NaN                    NaN  \n",
       "city                                  NaN                    NaN  \n",
       "state                                 NaN                    NaN  \n",
       "zip                               72042.0                99783.0  \n",
       "lat                               41.9404                66.6933  \n",
       "long                              -80.158               -67.9503  \n",
       "city_pop                          20328.0              2906700.0  \n",
       "job                                   NaN                    NaN  \n",
       "dob                                   NaN                    NaN  \n",
       "trans_num                             NaN                    NaN  \n",
       "unix_time                    1359385375.5           1371816817.0  \n",
       "merch_lat                       41.957164              67.510267  \n",
       "merch_long                     -80.236796             -66.950902  \n",
       "is_fraud                              0.0                    1.0  "
      ]
     },
     "execution_count": 5,
     "metadata": {},
     "output_type": "execute_result"
    }
   ],
   "source": [
    "df.describe(include=\"all\").T"
   ]
  },
  {
   "cell_type": "markdown",
   "metadata": {},
   "source": [
    "### Deal with Lat/Lon\n",
    "\n",
    "We can utilize lat/lon of the home and merchant in a useful way?\n",
    "\n",
    "Note: I left the section headers in from when I did it. You can remove them if you want. "
   ]
  },
  {
   "cell_type": "code",
   "execution_count": 4,
   "metadata": {},
   "outputs": [],
   "source": [
    "from geopy.distance import distance\n",
    "# Define a function to calculate the distance between two points\n",
    "def calculate_distance(row):\n",
    "    point1 = (row['lat'], row['long'])\n",
    "    point2 = (row['merch_lat'], row['merch_long'])\n",
    "    dist= distance(point1, point2).km\n",
    "    return dist\n",
    "\n",
    "# Apply the calculate_distance function to each row of the DataFrame to create a new 'distance' column\n",
    "df['dist'] = df.apply(calculate_distance, axis=1)"
   ]
  },
  {
   "attachments": {},
   "cell_type": "markdown",
   "metadata": {},
   "source": [
    "<li>I used the lat and long columns to calculate the distance between the customer's location and the merchant's location. This could be a useful feature for fraud detection, as fraudulent transactions may be more likely to occur when the customer and merchant are located far away from each other."
   ]
  },
  {
   "cell_type": "markdown",
   "metadata": {},
   "source": [
    "### Deal with Time\n",
    "\n",
    "Can we make date/time and the date of birth into something useful?"
   ]
  },
  {
   "cell_type": "code",
   "execution_count": 5,
   "metadata": {},
   "outputs": [],
   "source": [
    "from dateutil.relativedelta import relativedelta\n",
    "import datetime\n",
    "df['dob'] = pd.to_datetime(df['dob'], format='%Y-%m-%d')# converting to datetime type\n",
    "# Calculating the age of the customer in years\n",
    "now = datetime.datetime.now()\n",
    "df['age'] = df['dob'].apply(lambda x: relativedelta(now, x).years)"
   ]
  },
  {
   "cell_type": "code",
   "execution_count": 6,
   "metadata": {},
   "outputs": [],
   "source": [
    "# converting to datetime type\n",
    "df['trans_date_trans_time'] = pd.to_datetime(df['trans_date_trans_time'], format='%Y-%m-%d %H:%M:%S')\n",
    "# Extracting useful features from the trans_date_trans_time column\n",
    "df['hour'] = df['trans_date_trans_time'].dt.hour\n",
    "df['day'] = df['trans_date_trans_time'].dt.day\n",
    "df['weekday'] = df['trans_date_trans_time'].dt.weekday\n",
    "df['month'] = df['trans_date_trans_time'].dt.month\n",
    "df['year'] = df['trans_date_trans_time'].dt.year\n"
   ]
  },
  {
   "attachments": {},
   "cell_type": "markdown",
   "metadata": {},
   "source": [
    "<li> from 'dob' ,a new column describing age is calculated which can be a useful feature.As any customer who is much older or younger than the average customer for a particular type of transaction may be more likely to commit fraud.\n",
    "<li>I extracted various features from the trans_date_trans_time column such as:\n",
    "<li>Year, month, day, hour, minute and second of the transaction\n",
    "<li>Weekday of the transaction\n",
    "<li>These features can be useful in detecting patterns of fraudulent activity."
   ]
  },
  {
   "cell_type": "markdown",
   "metadata": {},
   "source": [
    "### Check Target Balance"
   ]
  },
  {
   "cell_type": "code",
   "execution_count": 12,
   "metadata": {},
   "outputs": [
    {
     "name": "stdout",
     "output_type": "stream",
     "text": [
      "0    1289169\n",
      "1       7506\n",
      "Name: is_fraud, dtype: int64\n"
     ]
    },
    {
     "data": {
      "text/plain": [
       "<AxesSubplot:>"
      ]
     },
     "execution_count": 12,
     "metadata": {},
     "output_type": "execute_result"
    },
    {
     "data": {
      "image/png": "[encoded data removed]",
      "text/plain": [
       "<Figure size 432x288 with 1 Axes>"
      ]
     },
     "metadata": {
      "needs_background": "light"
     },
     "output_type": "display_data"
    }
   ],
   "source": [
    "print(df['is_fraud'].value_counts())\n",
    "df['is_fraud'].value_counts().plot(kind='bar')"
   ]
  },
  {
   "cell_type": "code",
   "execution_count": 13,
   "metadata": {},
   "outputs": [
    {
     "name": "stdout",
     "output_type": "stream",
     "text": [
      "Examples:\n",
      "    Total: 1296675\n",
      "    Positive: 7506 (0.58% of total)\n",
      "\n"
     ]
    }
   ],
   "source": [
    "# Bincount will count the number in each category\n",
    "neg, pos = np.bincount(df['is_fraud'])\n",
    "total = neg + pos\n",
    "print('Examples:\\n    Total: {}\\n    Positive: {} ({:.2f}% of total)\\n'.format(\n",
    "    total, pos, 100 * pos / total))"
   ]
  },
  {
   "attachments": {},
   "cell_type": "markdown",
   "metadata": {},
   "source": [
    "highly imbalanced target."
   ]
  },
  {
   "cell_type": "markdown",
   "metadata": {},
   "source": [
    "### Prepare Data\n"
   ]
  },
  {
   "cell_type": "code",
   "execution_count": 11,
   "metadata": {},
   "outputs": [
    {
     "name": "stderr",
     "output_type": "stream",
     "text": [
      "C:\\Users\\navne\\AppData\\Local\\Temp\\ipykernel_36920\\900762441.py:1: FutureWarning: \n",
      "\n",
      "`shade` is now deprecated in favor of `fill`; setting `fill=True`.\n",
      "This will become an error in seaborn v0.14.0; please update your code.\n",
      "\n",
      "  sns.kdeplot(df['amt'], shade=True)\n"
     ]
    },
    {
     "data": {
      "text/plain": [
       "<AxesSubplot:xlabel='amt', ylabel='Density'>"
      ]
     },
     "execution_count": 11,
     "metadata": {},
     "output_type": "execute_result"
    },
    {
     "data": {
      "image/png": "[encoded data removed]",
      "text/plain": [
       "<Figure size 432x288 with 1 Axes>"
      ]
     },
     "metadata": {
      "needs_background": "light"
     },
     "output_type": "display_data"
    }
   ],
   "source": [
    "sns.kdeplot(df['amt'], shade=True)"
   ]
  },
  {
   "attachments": {},
   "cell_type": "markdown",
   "metadata": {},
   "source": [
    "eps is a small constant that is added  to avoid taking the logarithm of zero or negative values, which would result in an error.\n",
    "\n",
    "eps is set to 0.001, which is a very small value that will not significantly affect the overall distribution of the data. This ensures that the logarithm is only taken for positive values, and that the resulting values are not too extreme."
   ]
  },
  {
   "cell_type": "code",
   "execution_count": 7,
   "metadata": {},
   "outputs": [],
   "source": [
    "df = df.drop(columns =['trans_date_trans_time', 'dob', 'lat', 'long', 'merch_lat', 'merch_long',\n",
    "                       'merchant', 'first', 'last', 'street', 'job','trans_num','unix_time','zip','city_pop','state'])\n",
    "#started with all features,but considering runtime i have to drop all these"
   ]
  },
  {
   "cell_type": "code",
   "execution_count": 8,
   "metadata": {},
   "outputs": [],
   "source": [
    "df = pd.get_dummies(df, drop_first=True)"
   ]
  },
  {
   "cell_type": "markdown",
   "metadata": {},
   "source": [
    "### Split Data"
   ]
  },
  {
   "cell_type": "code",
   "execution_count": 9,
   "metadata": {},
   "outputs": [],
   "source": [
    "# Use a utility from sklearn to split and shuffle your dataset.\n",
    "train_df, test_df = train_test_split(df, test_size=0.2)\n",
    "train_df, val_df = train_test_split(train_df, test_size=0.2)\n",
    "\n",
    "# Form np arrays of labels and features.\n",
    "train_labels = np.array(train_df.pop('is_fraud'))\n",
    "val_labels = np.array(val_df.pop('is_fraud'))\n",
    "test_labels = np.array(test_df.pop('is_fraud'))\n",
    "\n",
    "train_features = np.array(train_df)\n",
    "val_features = np.array(val_df)\n",
    "test_features = np.array(test_df)"
   ]
  },
  {
   "attachments": {},
   "cell_type": "markdown",
   "metadata": {},
   "source": [
    "### Normalize features"
   ]
  },
  {
   "cell_type": "code",
   "execution_count": 10,
   "metadata": {},
   "outputs": [
    {
     "name": "stdout",
     "output_type": "stream",
     "text": [
      "Training labels shape: (829872,)\n",
      "Validation labels shape: (207468,)\n",
      "Test labels shape: (259335,)\n",
      "Training features shape: (829872, 916)\n",
      "Validation features shape: (207468, 916)\n",
      "Test features shape: (259335, 916)\n"
     ]
    }
   ],
   "source": [
    "scaler = StandardScaler()\n",
    "train_features = scaler.fit_transform(train_features)\n",
    "val_features = scaler.transform(val_features)\n",
    "test_features = scaler.transform(test_features)\n",
    "print('Training labels shape:', train_labels.shape)\n",
    "print('Validation labels shape:', val_labels.shape)\n",
    "print('Test labels shape:', test_labels.shape)\n",
    "print('Training features shape:', train_features.shape)\n",
    "print('Validation features shape:', val_features.shape)\n",
    "print('Test features shape:', test_features.shape)"
   ]
  },
  {
   "cell_type": "markdown",
   "metadata": {},
   "source": [
    "### Model"
   ]
  },
  {
   "cell_type": "code",
   "execution_count": 14,
   "metadata": {},
   "outputs": [
    {
     "name": "stdout",
     "output_type": "stream",
     "text": [
      "Weight for class 0: 0.50\n",
      "Weight for class 1: 86.38\n"
     ]
    }
   ],
   "source": [
    "# Scaling by total/2 helps keep the loss to a similar magnitude.\n",
    "# The sum of the weights of all examples stays the same.\n",
    "weight_for_0 = (1 / neg) * (total / 2.0)\n",
    "weight_for_1 = (1 / pos) * (total / 2.0)\n",
    "#class_weight = {0: 1.0, 1: total_samples / (num_classes * class_samples)}\n",
    "class_weight = {0: weight_for_0, 1: weight_for_1}\n",
    "\n",
    "print('Weight for class 0: {:.2f}'.format(weight_for_0))\n",
    "print('Weight for class 1: {:.2f}'.format(weight_for_1))"
   ]
  },
  {
   "cell_type": "code",
   "execution_count": 15,
   "metadata": {},
   "outputs": [],
   "source": [
    "METRICS = [\n",
    "      #keras.metrics.TruePositives(name='tp'),\n",
    "      #keras.metrics.FalsePositives(name='fp'),\n",
    "      #keras.metrics.TrueNegatives(name='tn'),\n",
    "      #keras.metrics.FalseNegatives(name='fn'), \n",
    "      keras.metrics.BinaryAccuracy(name='accuracy'),\n",
    "      keras.metrics.Precision(name='precision'),\n",
    "      keras.metrics.Recall(name='recall'),\n",
    "      keras.metrics.AUC(name='auc'),\n",
    "      keras.metrics.AUC(name='prc', curve='PR'), # precision-recall curve\n",
    "]\n",
    "initial_bias = np.log([pos/neg])\n",
    "output_bias = tf.keras.initializers.Constant(initial_bias)"
   ]
  },
  {
   "cell_type": "code",
   "execution_count": 29,
   "metadata": {},
   "outputs": [
    {
     "name": "stdout",
     "output_type": "stream",
     "text": [
      "Model: \"sequential_6\"\n",
      "_________________________________________________________________\n",
      " Layer (type)                Output Shape              Param #   \n",
      "=================================================================\n",
      " dense_18 (Dense)            (None, 350)               320950    \n",
      "                                                                 \n",
      " batch_normalization_8 (Batc  (None, 350)              1400      \n",
      " hNormalization)                                                 \n",
      "                                                                 \n",
      " dropout_12 (Dropout)        (None, 350)               0         \n",
      "                                                                 \n",
      " dense_19 (Dense)            (None, 350)               122850    \n",
      "                                                                 \n",
      " batch_normalization_9 (Batc  (None, 350)              1400      \n",
      " hNormalization)                                                 \n",
      "                                                                 \n",
      " dropout_13 (Dropout)        (None, 350)               0         \n",
      "                                                                 \n",
      " dense_20 (Dense)            (None, 1)                 351       \n",
      "                                                                 \n",
      "=================================================================\n",
      "Total params: 446,951\n",
      "Trainable params: 445,551\n",
      "Non-trainable params: 1,400\n",
      "_________________________________________________________________\n",
      "Epoch 1/15\n",
      "1660/1660 [==============================] - 60s 35ms/step - loss: 0.5958 - accuracy: 0.8798 - precision: 0.0355 - recall: 0.7534 - auc: 0.8881 - prc: 0.1198 - val_loss: 0.3124 - val_accuracy: 0.8825 - val_precision: 0.0367 - val_recall: 0.7708 - val_auc: 0.9047 - val_prc: 0.2055 - lr: 0.0010\n",
      "Epoch 2/15\n",
      "1660/1660 [==============================] - 51s 31ms/step - loss: 0.3446 - accuracy: 0.8723 - precision: 0.0355 - recall: 0.8100 - auc: 0.9258 - prc: 0.2318 - val_loss: 0.3123 - val_accuracy: 0.8814 - val_precision: 0.0376 - val_recall: 0.7985 - val_auc: 0.9209 - val_prc: 0.2434 - lr: 0.0010\n",
      "Epoch 3/15\n",
      "1660/1660 [==============================] - 49s 30ms/step - loss: 0.2977 - accuracy: 0.8891 - precision: 0.0419 - recall: 0.8343 - auc: 0.9444 - prc: 0.2865 - val_loss: 0.2920 - val_accuracy: 0.8950 - val_precision: 0.0430 - val_recall: 0.8136 - val_auc: 0.9351 - val_prc: 0.3036 - lr: 0.0010\n",
      "Epoch 4/15\n",
      "1660/1660 [==============================] - 51s 31ms/step - loss: 0.2602 - accuracy: 0.8975 - precision: 0.0467 - recall: 0.8642 - auc: 0.9591 - prc: 0.3172 - val_loss: 0.2430 - val_accuracy: 0.9244 - val_precision: 0.0596 - val_recall: 0.8237 - val_auc: 0.9493 - val_prc: 0.3300 - lr: 0.0010\n",
      "Epoch 5/15\n",
      "1660/1660 [==============================] - 49s 30ms/step - loss: 0.2250 - accuracy: 0.9115 - precision: 0.0549 - recall: 0.8866 - auc: 0.9699 - prc: 0.3513 - val_loss: 0.1722 - val_accuracy: 0.9512 - val_precision: 0.0892 - val_recall: 0.8144 - val_auc: 0.9588 - val_prc: 0.3743 - lr: 0.0010\n",
      "Epoch 6/15\n",
      "1660/1660 [==============================] - 50s 30ms/step - loss: 0.1895 - accuracy: 0.9256 - precision: 0.0662 - recall: 0.9096 - auc: 0.9786 - prc: 0.4015 - val_loss: 0.1762 - val_accuracy: 0.9343 - val_precision: 0.0704 - val_recall: 0.8556 - val_auc: 0.9616 - val_prc: 0.4173 - lr: 0.0010\n",
      "Epoch 7/15\n",
      "1660/1660 [==============================] - 50s 30ms/step - loss: 0.1637 - accuracy: 0.9349 - precision: 0.0762 - recall: 0.9274 - auc: 0.9838 - prc: 0.4441 - val_loss: 0.1522 - val_accuracy: 0.9437 - val_precision: 0.0811 - val_recall: 0.8531 - val_auc: 0.9681 - val_prc: 0.4768 - lr: 0.0010\n",
      "Epoch 8/15\n",
      "1660/1660 [==============================] - 50s 30ms/step - loss: 0.1449 - accuracy: 0.9412 - precision: 0.0846 - recall: 0.9376 - auc: 0.9872 - prc: 0.4984 - val_loss: 0.1330 - val_accuracy: 0.9491 - val_precision: 0.0891 - val_recall: 0.8522 - val_auc: 0.9682 - val_prc: 0.5262 - lr: 0.0010\n",
      "Epoch 9/15\n",
      "1660/1660 [==============================] - 50s 30ms/step - loss: 0.1325 - accuracy: 0.9467 - precision: 0.0932 - recall: 0.9458 - auc: 0.9891 - prc: 0.5233 - val_loss: 0.1492 - val_accuracy: 0.9417 - val_precision: 0.0810 - val_recall: 0.8850 - val_auc: 0.9678 - val_prc: 0.5484 - lr: 0.0010\n",
      "Epoch 10/15\n",
      "1660/1660 [==============================] - 50s 30ms/step - loss: 0.1218 - accuracy: 0.9509 - precision: 0.1007 - recall: 0.9487 - auc: 0.9907 - prc: 0.5539 - val_loss: 0.0955 - val_accuracy: 0.9671 - val_precision: 0.1321 - val_recall: 0.8480 - val_auc: 0.9730 - val_prc: 0.5611 - lr: 0.0010\n",
      "Epoch 11/15\n",
      "1660/1660 [==============================] - 52s 31ms/step - loss: 0.1107 - accuracy: 0.9554 - precision: 0.1105 - recall: 0.9575 - auc: 0.9921 - prc: 0.5574 - val_loss: 0.1376 - val_accuracy: 0.9495 - val_precision: 0.0927 - val_recall: 0.8866 - val_auc: 0.9720 - val_prc: 0.4965 - lr: 0.0010\n",
      "Epoch 12/15\n",
      "1660/1660 [==============================] - 50s 30ms/step - loss: 0.0986 - accuracy: 0.9592 - precision: 0.1202 - recall: 0.9623 - auc: 0.9936 - prc: 0.5862 - val_loss: 0.0878 - val_accuracy: 0.9684 - val_precision: 0.1381 - val_recall: 0.8581 - val_auc: 0.9702 - val_prc: 0.5508 - lr: 0.0010\n",
      "Epoch 13/15\n",
      "1660/1660 [==============================] - 50s 30ms/step - loss: 0.0896 - accuracy: 0.9635 - precision: 0.1330 - recall: 0.9671 - auc: 0.9945 - prc: 0.5957 - val_loss: 0.0952 - val_accuracy: 0.9637 - val_precision: 0.1233 - val_recall: 0.8699 - val_auc: 0.9747 - val_prc: 0.5664 - lr: 0.0010\n",
      "Epoch 14/15\n",
      "1660/1660 [==============================] - 50s 30ms/step - loss: 0.0858 - accuracy: 0.9655 - precision: 0.1401 - recall: 0.9711 - auc: 0.9948 - prc: 0.6117 - val_loss: 0.0753 - val_accuracy: 0.9718 - val_precision: 0.1533 - val_recall: 0.8665 - val_auc: 0.9766 - val_prc: 0.6291 - lr: 0.0010\n",
      "Epoch 15/15\n",
      "1660/1660 [==============================] - 50s 30ms/step - loss: 0.0810 - accuracy: 0.9668 - precision: 0.1450 - recall: 0.9720 - auc: 0.9952 - prc: 0.6201 - val_loss: 0.1005 - val_accuracy: 0.9634 - val_precision: 0.1239 - val_recall: 0.8866 - val_auc: 0.9754 - val_prc: 0.5886 - lr: 0.0010\n",
      "8105/8105 [==============================] - 35s 4ms/step - loss: 0.1011 - accuracy: 0.9638 - precision: 0.1287 - recall: 0.8848 - auc: 0.9721 - prc: 0.5684\n"
     ]
    },
    {
     "data": {
      "image/png": "[encoded data removed]",
      "text/plain": [
       "<Figure size 432x288 with 1 Axes>"
      ]
     },
     "metadata": {
      "needs_background": "light"
     },
     "output_type": "display_data"
    }
   ],
   "source": [
    "model = keras.Sequential()\n",
    "model.add(keras.layers.Dense(350, activation='relu',input_shape=(train_features.shape[-1],)))\n",
    "model.add(keras.layers.BatchNormalization())\n",
    "model.add(keras.layers.Dropout(0.2))\n",
    "model.add(keras.layers.Dense(350, activation='relu'))\n",
    "model.add(keras.layers.BatchNormalization())\n",
    "model.add(keras.layers.Dropout(0.2))\n",
    "model.add(keras.layers.Dense(1, activation='sigmoid', bias_initializer=output_bias))\n",
    "model.summary()\n",
    "callback = tf.keras.callbacks.EarlyStopping(monitor='val_loss', patience=8, restore_best_weights=True)\n",
    "lr_scheduler = tf.keras.callbacks.ReduceLROnPlateau(monitor='val_loss', factor=0.1, patience=3)\n",
    "optimizer = keras.optimizers.Adam(learning_rate=0.001)\n",
    "model.compile(optimizer=optimizer,loss=\"binary_crossentropy\",metrics=METRICS)\n",
    "#Fit\n",
    "train_log = model.fit(\n",
    "  train_features,\n",
    "  train_labels,\n",
    "  validation_data=(val_features, val_labels),\n",
    "  epochs=15,\n",
    "  batch_size=500,\n",
    "  callbacks=[callback,lr_scheduler],\n",
    "  class_weight=class_weight\n",
    ")\n",
    "model.evaluate(test_features, test_labels)\n",
    "plot_loss(train_log)"
   ]
  },
  {
   "cell_type": "code",
   "execution_count": 30,
   "metadata": {},
   "outputs": [
    {
     "name": "stdout",
     "output_type": "stream",
     "text": [
      "8105/8105 [==============================] - 23s 3ms/step\n"
     ]
    },
    {
     "data": {
      "image/png": "[encoded data removed]",
      "text/plain": [
       "<Figure size 432x288 with 2 Axes>"
      ]
     },
     "metadata": {
      "needs_background": "light"
     },
     "output_type": "display_data"
    },
    {
     "name": "stdout",
     "output_type": "stream",
     "text": [
      "Legitimate Transactions Detected (True Negatives):  248597\n",
      "Legitimate Transactions Incorrectly Detected (False Positives):  9202\n",
      "Fraudulent Transactions Missed (False Negatives):  177\n",
      "Fraudulent Transactions Detected (True Positives):  1359\n",
      "Total Fraudulent Transactions:  1536\n"
     ]
    }
   ],
   "source": [
    "from sklearn.metrics import confusion_matrix, plot_confusion_matrix\n",
    "# Get model predictions for test features\n",
    "y_pred = model.predict(test_features)\n",
    "# Convert probabilities to binary labels\n",
    "y_pred_binary = np.where(y_pred > 0.5, 1, 0)\n",
    "# Get list of class labels\n",
    "labels = ['non-fraud', 'fraud']\n",
    "# Compute confusion matrix\n",
    "cm = confusion_matrix(test_labels, y_pred_binary)\n",
    "# Plot confusion matrix\n",
    "sns.heatmap(cm, annot=True,fmt='d')\n",
    "plt.title('Confusion Matrix')\n",
    "plt.show()\n",
    "print('Legitimate Transactions Detected (True Negatives): ', cm[0][0])\n",
    "print('Legitimate Transactions Incorrectly Detected (False Positives): ', cm[0][1])\n",
    "print('Fraudulent Transactions Missed (False Negatives): ', cm[1][0])\n",
    "print('Fraudulent Transactions Detected (True Positives): ', cm[1][1])\n",
    "print('Total Fraudulent Transactions: ', np.sum(cm[1]))"
   ]
  },
  {
   "cell_type": "code",
   "execution_count": 16,
   "metadata": {},
   "outputs": [
    {
     "name": "stdout",
     "output_type": "stream",
     "text": [
      "Model: \"sequential\"\n",
      "_________________________________________________________________\n",
      " Layer (type)                Output Shape              Param #   \n",
      "=================================================================\n",
      " dense (Dense)               (None, 350)               320950    \n",
      "                                                                 \n",
      " dropout (Dropout)           (None, 350)               0         \n",
      "                                                                 \n",
      " dense_1 (Dense)             (None, 200)               70200     \n",
      "                                                                 \n",
      " dropout_1 (Dropout)         (None, 200)               0         \n",
      "                                                                 \n",
      " dense_2 (Dense)             (None, 1)                 201       \n",
      "                                                                 \n",
      "=================================================================\n",
      "Total params: 391,351\n",
      "Trainable params: 391,351\n",
      "Non-trainable params: 0\n",
      "_________________________________________________________________\n",
      "Epoch 1/10\n",
      "5533/5533 [==============================] - 66s 11ms/step - loss: 2.4489 - accuracy: 0.9343 - precision: 0.0554 - recall: 0.6489 - auc: 0.8275 - prc: 0.1510 - val_loss: 1.0545 - val_accuracy: 0.9798 - val_precision: 0.1844 - val_recall: 0.7237 - val_auc: 0.8545 - val_prc: 0.1951 - lr: 0.0010\n",
      "Epoch 2/10\n",
      "5533/5533 [==============================] - 51s 9ms/step - loss: 1.2098 - accuracy: 0.9354 - precision: 0.0570 - recall: 0.6585 - auc: 0.8349 - prc: 0.1592 - val_loss: 1.1470 - val_accuracy: 0.9531 - val_precision: 0.0881 - val_recall: 0.7560 - val_auc: 0.8631 - val_prc: 0.1933 - lr: 0.0010\n",
      "Epoch 3/10\n",
      "5533/5533 [==============================] - 49s 9ms/step - loss: 1.1628 - accuracy: 0.9423 - precision: 0.0641 - recall: 0.6633 - auc: 0.8422 - prc: 0.1600 - val_loss: 0.9691 - val_accuracy: 0.9782 - val_precision: 0.1746 - val_recall: 0.7378 - val_auc: 0.8612 - val_prc: 0.1966 - lr: 0.0010\n",
      "Epoch 4/10\n",
      "5533/5533 [==============================] - 50s 9ms/step - loss: 1.1538 - accuracy: 0.9454 - precision: 0.0677 - recall: 0.6656 - auc: 0.8477 - prc: 0.1552 - val_loss: 1.0675 - val_accuracy: 0.9683 - val_precision: 0.1255 - val_recall: 0.7469 - val_auc: 0.8606 - val_prc: 0.1962 - lr: 0.0010\n",
      "Epoch 5/10\n",
      "5533/5533 [==============================] - 52s 9ms/step - loss: 1.1454 - accuracy: 0.9490 - precision: 0.0721 - recall: 0.6621 - auc: 0.8459 - prc: 0.1632 - val_loss: 1.0356 - val_accuracy: 0.9721 - val_precision: 0.1407 - val_recall: 0.7436 - val_auc: 0.8604 - val_prc: 0.1962 - lr: 0.0010\n",
      "Epoch 6/10\n",
      "5533/5533 [==============================] - 53s 10ms/step - loss: 1.1306 - accuracy: 0.9502 - precision: 0.0739 - recall: 0.6629 - auc: 0.8486 - prc: 0.1628 - val_loss: 1.0513 - val_accuracy: 0.9694 - val_precision: 0.1296 - val_recall: 0.7461 - val_auc: 0.8581 - val_prc: 0.1959 - lr: 0.0010\n",
      "Epoch 7/10\n",
      "5533/5533 [==============================] - 53s 10ms/step - loss: 0.6855 - accuracy: 0.9600 - precision: 0.0922 - recall: 0.6725 - auc: 0.8522 - prc: 0.1677 - val_loss: 0.6215 - val_accuracy: 0.9614 - val_precision: 0.1047 - val_recall: 0.7485 - val_auc: 0.8536 - val_prc: 0.1886 - lr: 1.0000e-04\n",
      "Epoch 8/10\n",
      "5533/5533 [==============================] - 54s 10ms/step - loss: 0.6687 - accuracy: 0.9601 - precision: 0.0922 - recall: 0.6711 - auc: 0.8464 - prc: 0.1647 - val_loss: 0.5707 - val_accuracy: 0.9727 - val_precision: 0.1423 - val_recall: 0.7369 - val_auc: 0.8539 - val_prc: 0.1875 - lr: 1.0000e-04\n",
      "Epoch 9/10\n",
      "5533/5533 [==============================] - 54s 10ms/step - loss: 0.6624 - accuracy: 0.9606 - precision: 0.0936 - recall: 0.6736 - auc: 0.8545 - prc: 0.1689 - val_loss: 0.5885 - val_accuracy: 0.9692 - val_precision: 0.1285 - val_recall: 0.7427 - val_auc: 0.8544 - val_prc: 0.1879 - lr: 1.0000e-04\n",
      "Epoch 10/10\n",
      "5533/5533 [==============================] - 54s 10ms/step - loss: 0.6674 - accuracy: 0.9601 - precision: 0.0922 - recall: 0.6721 - auc: 0.8489 - prc: 0.1660 - val_loss: 0.5669 - val_accuracy: 0.9735 - val_precision: 0.1460 - val_recall: 0.7361 - val_auc: 0.8539 - val_prc: 0.1886 - lr: 1.0000e-04\n",
      "8105/8105 [==============================] - 23s 3ms/step - loss: 0.5636 - accuracy: 0.9737 - precision: 0.1480 - recall: 0.7311 - auc: 0.8523 - prc: 0.1889\n"
     ]
    },
    {
     "data": {
      "image/png": "[encoded data removed]",
      "text/plain": [
       "<Figure size 432x288 with 1 Axes>"
      ]
     },
     "metadata": {
      "needs_background": "light"
     },
     "output_type": "display_data"
    }
   ],
   "source": [
    "from tensorflow.keras import regularizers\n",
    "model1= keras.Sequential()\n",
    "model1.add(keras.layers.Dense(350, activation='relu',input_shape=(train_features.shape[-1],), kernel_regularizer=regularizers.l1_l2(0.01)))\n",
    "model1.add(keras.layers.Dropout(0.5))\n",
    "model1.add(keras.layers.Dense(200, activation='relu',kernel_regularizer=regularizers.l1_l2(0.01)))\n",
    "model1.add(keras.layers.Dropout(0.5))\n",
    "model1.add(keras.layers.Dense(1, activation='sigmoid', bias_initializer=output_bias,kernel_regularizer=regularizers.l1_l2(0.01)))\n",
    "model1.summary()\n",
    "callback = tf.keras.callbacks.EarlyStopping(monitor='val_loss', patience=10, restore_best_weights=True)\n",
    "lr_scheduler = tf.keras.callbacks.ReduceLROnPlateau(monitor='val_loss', factor=0.1, patience=3)\n",
    "optimizer = keras.optimizers.Adam(learning_rate=0.001)\n",
    "model1.compile(optimizer=optimizer,loss=\"binary_crossentropy\",metrics=METRICS)\n",
    "#Fit\n",
    "train_log = model1.fit(\n",
    "  train_features,\n",
    "  train_labels,\n",
    "  validation_data=(val_features, val_labels),\n",
    "  epochs=10,\n",
    "  batch_size=150,\n",
    "  callbacks=[callback,lr_scheduler],\n",
    "  class_weight=class_weight\n",
    ")\n",
    "model1.evaluate(test_features, test_labels)\n",
    "plot_loss(train_log)"
   ]
  },
  {
   "cell_type": "code",
   "execution_count": 17,
   "metadata": {},
   "outputs": [
    {
     "name": "stdout",
     "output_type": "stream",
     "text": [
      "8105/8105 [==============================] - 17s 2ms/step\n"
     ]
    },
    {
     "data": {
      "image/png": "[encoded data removed]",
      "text/plain": [
       "<Figure size 432x288 with 2 Axes>"
      ]
     },
     "metadata": {
      "needs_background": "light"
     },
     "output_type": "display_data"
    },
    {
     "name": "stdout",
     "output_type": "stream",
     "text": [
      "Legitimate Transactions Detected (True Negatives):  251393\n",
      "Legitimate Transactions Incorrectly Detected (False Positives):  6417\n",
      "Fraudulent Transactions Missed (False Negatives):  410\n",
      "Fraudulent Transactions Detected (True Positives):  1115\n",
      "Total Fraudulent Transactions:  1525\n"
     ]
    }
   ],
   "source": [
    "from sklearn.metrics import confusion_matrix, plot_confusion_matrix\n",
    "\n",
    "# Get model predictions for test features\n",
    "y_pred = model1.predict(test_features)\n",
    "\n",
    "# Convert probabilities to binary labels\n",
    "y_pred_binary = np.where(y_pred > 0.5, 1, 0)\n",
    "\n",
    "# Get list of class labels\n",
    "labels = ['non-fraud', 'fraud']\n",
    "\n",
    "# Compute confusion matrix\n",
    "cm1 = confusion_matrix(test_labels, y_pred_binary)\n",
    "\n",
    "# Plot confusion matrix\n",
    "sns.heatmap(cm1, annot=True,fmt='d')\n",
    "plt.title('Confusion Matrix')\n",
    "plt.show()\n",
    "print('Legitimate Transactions Detected (True Negatives): ', cm1[0][0])\n",
    "print('Legitimate Transactions Incorrectly Detected (False Positives): ', cm1[0][1])\n",
    "print('Fraudulent Transactions Missed (False Negatives): ', cm1[1][0])\n",
    "print('Fraudulent Transactions Detected (True Positives): ', cm1[1][1])\n",
    "print('Total Fraudulent Transactions: ', np.sum(cm1[1]))"
   ]
  },
  {
   "cell_type": "code",
   "execution_count": 18,
   "metadata": {},
   "outputs": [
    {
     "name": "stdout",
     "output_type": "stream",
     "text": [
      "INFO:tensorflow:Assets written to: FinalModel\\assets\n"
     ]
    }
   ],
   "source": [
    "model1.save('FinalModel')"
   ]
  },
  {
   "attachments": {},
   "cell_type": "markdown",
   "metadata": {},
   "source": [
    "# Summary of Steps Taken\n",
    "<li> Imbalanced data steps--intial bias & class weight \n",
    "<li> Treatment of the location and time variables.-- from 'dob' ,a new column describing age is calculated.\n",
    "Year, month, day, hour of the transaction,Weekday of the transaction is calculated from 'date time column'\n",
    "<li>used the lat and long columns to calculate the distance between the customer's location and the merchant's location.\n",
    "As fraudulent transactions may be more likely to occur when the customer and merchant are located far away from each other.\n",
    "<li>log of amount due to skewed distribution.(not using this/didnot give better results)\n",
    "\n",
    "### Model structure (layers/size)\n",
    "<li>started with 500 and 3 layers /epochs=30,batch size -64 ,took very long time more than 192 mins and missed values(False ngtv) was huge.\n",
    "<li>reduced neuron numbers to 350,increased dropout, epochs,batch size(228) and added batch normalization layer,increased patience  led to highly underfitted model.\n",
    "<li>adjusted learning rate ,decreased batch size (less than 100),epochs,dropout,increased neuron to 350 -still high missed fraud transactions.\n",
    "<li>decided 3 layers with 350,350,1 neurons , 0.2 dropout ,less epochs, increased batch size  as final model\n",
    "\n",
    "\n",
    "### Any optimization steps included  \n",
    "<li>Added a batch normalization layer after each dense layer.\n",
    "<li>re-trained the model with class weights,intial bias ,end up using both. \n",
    "<li>Adjusted layers, number of neurons, epochs,batch size, dropout rate,patience parameter.\n",
    "<li>Using a learning rate scheduler, ReduceLROnPlateau, to adjust the learning rate during training.\n",
    "<li> tried applying L1,L2 &L1-l2 regularization with a strength of 0.01 to all the weights in each dense layer but true positive was high but also got too many false positive ,negatives\n",
    "<li>grid search cv takes forever,could not get results bc of large runtime."
   ]
  }
 ],
 "metadata": {
  "interpreter": {
   "hash": "4d722d3adfa415172c1f5238b519fb86b488acdae450fd691ab06c09f4ca9173"
  },
  "kernelspec": {
   "display_name": "Python 3.9.7 ('ml3950')",
   "language": "python",
   "name": "python3"
  },
  "language_info": {
   "codemirror_mode": {
    "name": "ipython",
    "version": 3
   },
   "file_extension": ".py",
   "mimetype": "text/x-python",
   "name": "python",
   "nbconvert_exporter": "python",
   "pygments_lexer": "ipython3",
   "version": "3.9.12"
  },
  "orig_nbformat": 4
 },
 "nbformat": 4,
 "nbformat_minor": 2
}
