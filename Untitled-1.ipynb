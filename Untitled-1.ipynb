{
 "cells": [
  {
   "cell_type": "code",
   "execution_count": null,
   "metadata": {},
   "outputs": [],
   "source": [
    "rom tensorflow.keras import regularizers\n",
    "model = keras.Sequential()\n",
    "model.add(keras.layers.Dense(350, activation='relu',input_shape=(train_features.shape[-1],)))\n",
    "model.add(keras.layers.Dropout(0.2))\n",
    "model.add(keras.layers.Dense(250, activation='relu'))\n",
    "model.add(keras.layers.Dropout(0.2))\n",
    "model.add(keras.layers.Dense(1, activation='sigmoid', bias_initializer=output_bias))\n",
    "model.summary()\n",
    "callback = tf.keras.callbacks.EarlyStopping(monitor='val_loss', patience=8, restore_best_weights=True)\n",
    "lr_scheduler = tf.keras.callbacks.ReduceLROnPlateau(monitor='val_loss', factor=0.1, patience=4)\n",
    "optimizer = keras.optimizers.Adam(learning_rate=0.001)\n",
    "model.compile(optimizer=optimizer,loss=\"binary_crossentropy\",metrics=METRICS)\n",
    "#Fit\n",
    "train_log = model.fit(\n",
    "  train_features,\n",
    "  train_labels,\n",
    "  validation_data=(val_features, val_labels),\n",
    "  epochs=10,\n",
    "  batch_size=150,\n",
    "  callbacks=[callback,lr_scheduler],\n",
    "  class_weight=class_weight\n",
    ")\n",
    "model.evaluate(test_features, test_labels)\n",
    "plot_loss(train_log)"
   ]
  },
  {
   "cell_type": "code",
   "execution_count": null,
   "metadata": {},
   "outputs": [],
   "source": [
    "# The `Amount` column covers a huge range. Convert to log-space.\n",
    "eps = 0.001 # 0 => 0.1¢\n",
    "df['amt'] = np.log(df.pop('amt')+eps) "
   ]
  },
  {
   "cell_type": "code",
   "execution_count": null,
   "metadata": {},
   "outputs": [],
   "source": [
    "from sklearn.metrics import confusion_matrix, plot_confusion_matrix\n",
    "\n",
    "# Get model predictions for test features\n",
    "y_pred = model.predict(test_features)\n",
    "\n",
    "# Convert probabilities to binary labels\n",
    "y_pred_binary = np.where(y_pred > 0.5, 1, 0)\n",
    "\n",
    "# Get list of class labels\n",
    "labels = ['non-fraud', 'fraud']\n",
    "\n",
    "# Compute confusion matrix\n",
    "cm = confusion_matrix(test_labels, y_pred_binary)\n",
    "\n",
    "# Plot confusion matrix\n",
    "sns.heatmap(cm, annot=True,fmt='d')\n",
    "plt.title('Confusion Matrix')\n",
    "plt.show()\n",
    "print('Legitimate Transactions Detected (True Negatives): ', cm[0][0])\n",
    "print('Legitimate Transactions Incorrectly Detected (False Positives): ', cm[0][1])\n",
    "print('Fraudulent Transactions Missed (False Negatives): ', cm[1][0])\n",
    "print('Fraudulent Transactions Detected (True Positives): ', cm[1][1])\n",
    "print('Total Fraudulent Transactions: ', np.sum(cm[1]))"
   ]
  }
 ],
 "metadata": {
  "language_info": {
   "name": "python"
  },
  "orig_nbformat": 4
 },
 "nbformat": 4,
 "nbformat_minor": 2
}
